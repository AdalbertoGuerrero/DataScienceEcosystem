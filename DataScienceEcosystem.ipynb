{
  "nbformat": 4,
  "nbformat_minor": 0,
  "metadata": {
    "colab": {
      "provenance": []
    },
    "kernelspec": {
      "name": "python3",
      "display_name": "Python 3"
    },
    "language_info": {
      "name": "python"
    }
  },
  "cells": [
    {
      "cell_type": "markdown",
      "source": [
        "#Data Science Tools and Ecosystem\n"
      ],
      "metadata": {
        "id": "OXbVCp9zLsMf"
      }
    },
    {
      "cell_type": "markdown",
      "source": [
        "In this notebook, Data Science Tools and Ecosystem are summarized."
      ],
      "metadata": {
        "id": "FBdBSxDaMJK0"
      }
    },
    {
      "cell_type": "markdown",
      "source": [
        "**Objectives:**\n",
        "\n",
        "This notebook covers the following topics related to Data Science:\n",
        "\n",
        "- List popular programming languages for Data Science.\n",
        "- Explore key open-source tools used in Data Science.\n",
        "- Introduce essential libraries for Data Science tasks.\n",
        "- Discuss common Data Science techniques and methodologies.\n",
        "- Showcase practical examples of Data Science projects.\n",
        "\n"
      ],
      "metadata": {
        "id": "1kKIFU2URnae"
      }
    },
    {
      "cell_type": "markdown",
      "source": [
        "1. Python\n",
        "2. R Studio\n",
        "3. SQL\n",
        "4. Scala\n",
        "5. Julia"
      ],
      "metadata": {
        "id": "AQeWskpZMONV"
      }
    },
    {
      "cell_type": "markdown",
      "source": [
        "Some of the commonly used libraries used by Data Scientists include:"
      ],
      "metadata": {
        "id": "nq721gx-M3oU"
      }
    },
    {
      "cell_type": "markdown",
      "source": [
        "1. Pandas\n",
        "2. Matplotlib\n",
        "3. Seaborn\n",
        "4. TensorFlow\n",
        "5. NumPy\n",
        "6. Scikit-Learn\n"
      ],
      "metadata": {
        "id": "Hdq0CNiMM63W"
      }
    },
    {
      "cell_type": "markdown",
      "source": [
        "\n",
        "\n",
        "| Data Science Tools     |\n",
        "|-----------------------|\n",
        "| Jupyter Notebook      |\n",
        "| RStudio               |\n",
        "| Apache Zeppelin       |\n"
      ],
      "metadata": {
        "id": "7FcE1RskNh00"
      }
    },
    {
      "cell_type": "markdown",
      "source": [
        "###Below are a few examples of evaluating arithmetic expressions in Python"
      ],
      "metadata": {
        "id": "fz5ILLoUQAZy"
      }
    },
    {
      "cell_type": "code",
      "source": [
        "(3*4)+5\n",
        "#This a simple arithmetic expression to mutiply then add integers"
      ],
      "metadata": {
        "colab": {
          "base_uri": "https://localhost:8080/"
        },
        "id": "d9OaKNpBQTWj",
        "outputId": "2fb169d8-aaf6-4b18-a5ab-ca05f1e84186"
      },
      "execution_count": null,
      "outputs": [
        {
          "output_type": "execute_result",
          "data": {
            "text/plain": [
              "17"
            ]
          },
          "metadata": {},
          "execution_count": 1
        }
      ]
    },
    {
      "cell_type": "code",
      "source": [
        "#This will convert 200 minutes to hours by diving by 60\n",
        "200/60"
      ],
      "metadata": {
        "colab": {
          "base_uri": "https://localhost:8080/"
        },
        "id": "07vnBdWNQwoF",
        "outputId": "3ec06cca-6206-4aac-fba1-d774aeda84a3"
      },
      "execution_count": null,
      "outputs": [
        {
          "output_type": "execute_result",
          "data": {
            "text/plain": [
              "3.3333333333333335"
            ]
          },
          "metadata": {},
          "execution_count": 2
        }
      ]
    },
    {
      "cell_type": "markdown",
      "source": [
        "## Author\n",
        "\n",
        "Adalberto Guerrero"
      ],
      "metadata": {
        "id": "rmn_fT_iTKr_"
      }
    },
    {
      "cell_type": "markdown",
      "source": [],
      "metadata": {
        "id": "Q6dbh8xZTMlU"
      }
    }
  ]
}